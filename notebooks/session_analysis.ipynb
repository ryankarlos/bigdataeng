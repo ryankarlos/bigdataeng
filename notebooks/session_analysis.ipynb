{
 "cells": [
  {
   "cell_type": "code",
   "execution_count": 1,
   "id": "67a28c5a",
   "metadata": {},
   "outputs": [],
   "source": [
    "import pyspark\n",
    "from pyspark.conf import SparkConf\n",
    "from pyspark.sql import SparkSession\n",
    "from pyspark.sql.dataframe import DataFrame\n",
    "from pyspark.sql.functions import count, desc, expr, lag, round, unix_timestamp, col, round, sum, min, max, row_number, collect_list\n",
    "from pyspark.sql.types import Row\n",
    "from pyspark.sql.window import Window\n",
    "from pyspark.sql.types import IntegerType, StringType, StructField, StructType, TimestampType"
   ]
  },
  {
   "cell_type": "code",
   "execution_count": 9,
   "id": "2ca9443d",
   "metadata": {},
   "outputs": [
    {
     "name": "stdout",
     "output_type": "stream",
     "text": [
      "root\n",
      " |-- userid: string (nullable = true)\n",
      " |-- timestamp: timestamp (nullable = true)\n",
      " |-- artistid: string (nullable = true)\n",
      " |-- artistname: string (nullable = true)\n",
      " |-- trackid: string (nullable = true)\n",
      " |-- trackname: string (nullable = true)\n",
      "\n"
     ]
    }
   ],
   "source": [
    "SESSION_PATH = \"../lastfm-dataset-1K/user-session-track.tsv\"\n",
    "\n",
    "SESSION_SCHEMA = StructType(\n",
    "    [\n",
    "        StructField(\"userid\", StringType(), False),\n",
    "        StructField(\"timestamp\", TimestampType(), True),\n",
    "        StructField(\"artistid\", StringType(), True),\n",
    "        StructField(\"artistname\", StringType(), True),\n",
    "        StructField(\"trackid\", StringType(), True),\n",
    "        StructField(\"trackname\", StringType(), True)\n",
    "    ]\n",
    ")\n",
    "\n",
    "conf = SparkConf()\n",
    "\n",
    "# this needs to be configured if running locally and depending on machine specs\n",
    "# to avoid warnings similar to\n",
    "# https://stackoverflow.com/questions/46907447/meaning-of-apache-spark-warning-calling-spill-on-rowbasedkeyvaluebatch\n",
    "conf.set(\"spark.driver.memory\", \"4g\")\n",
    "conf.set(\"spark.executor.memory\", \"4g\")\n",
    "\n",
    "spark = SparkSession.builder.appName(\"lastfm\").config(conf=conf).getOrCreate()\n",
    "spark.sparkContext.setLogLevel('ERROR')\n",
    "data = (spark.read.format(\"csv\")\n",
    "        .option(\"header\", \"false\")\n",
    "        .option(\"delimiter\", \"\\t\")\n",
    "        .schema(SESSION_SCHEMA)\n",
    "        .load(SESSION_PATH)\n",
    "    )\n",
    "\n",
    "data.printSchema()"
   ]
  },
  {
   "cell_type": "code",
   "execution_count": 10,
   "id": "c6c54eab",
   "metadata": {},
   "outputs": [
    {
     "name": "stderr",
     "output_type": "stream",
     "text": [
      "[Stage 26:==================================================>     (17 + 2) / 19]\r"
     ]
    },
    {
     "name": "stdout",
     "output_type": "stream",
     "text": [
      "+-----------+-------------------+--------------------+--------------------+\n",
      "|     userid|          timestamp|          artistname|           trackname|\n",
      "+-----------+-------------------+--------------------+--------------------+\n",
      "|user_000025|2006-04-25 18:01:40|                Moby|           Down Slow|\n",
      "|user_000024|2007-05-28 16:57:32|           Destroyer|       The Crossover|\n",
      "|user_000001|2009-01-05 15:16:41|               Plaid|             Seizure|\n",
      "|user_000041|2008-07-22 01:31:39|     Younger Brother|  Magic Monkey Juice|\n",
      "|user_000019|2006-01-08 23:12:58|Einstürzende Neub...|Three Thoughts (D...|\n",
      "|user_000035|2009-04-04 01:42:31|            Legowelt|Are You Really So...|\n",
      "|user_000010|2009-04-14 12:43:00|         The Prodigy|                Omen|\n",
      "|user_000034|2008-12-23 17:35:25|      Black Mountain|         Stormy High|\n",
      "|user_000026|2006-08-16 16:16:23|           Riverside|   I Turned You Down|\n",
      "|user_000025|2006-11-02 21:33:20|              Nebula|    Out Of Your Head|\n",
      "|user_000008|2009-02-07 14:11:33|          Kanye West|        Say You Will|\n",
      "|user_000029|2008-12-19 17:39:04|        Swervedriver|        Feel So Real|\n",
      "|user_000021|2009-03-13 00:04:01|        Bad Religion|           Kyoto Now|\n",
      "|user_000033|2007-08-31 11:46:52|           The Babys|   Fuminshou No Debu|\n",
      "|user_000030|2009-04-08 00:33:05|             Phoenix|          Party Time|\n",
      "|user_000004|2007-10-17 23:15:53|            Röyksopp|           Poor Leno|\n",
      "|user_000003|2008-10-29 09:44:24|           The Doors|           Go Insane|\n",
      "|user_000022|2007-08-30 22:24:25|         The Presets|    Girl And The Sea|\n",
      "|user_000035|2008-12-12 05:48:31|   Carpathian Forest|It'S Darker Than ...|\n",
      "|user_000008|2009-01-03 21:24:41|          Kanye West|       Love Lockdown|\n",
      "+-----------+-------------------+--------------------+--------------------+\n",
      "only showing top 20 rows\n",
      "\n"
     ]
    },
    {
     "name": "stderr",
     "output_type": "stream",
     "text": [
      "\r",
      "                                                                                \r"
     ]
    }
   ],
   "source": [
    "cols_to_drop = (\"artistid\", \"trackid\")\n",
    "data = data.repartition(4)\n",
    "df = data.drop(*cols_to_drop)\n",
    "df.show()"
   ]
  },
  {
   "cell_type": "code",
   "execution_count": 11,
   "id": "093544e9",
   "metadata": {},
   "outputs": [],
   "source": [
    "limit,session_cutoff=10,20\n",
    "w1 = Window.partitionBy(\"userid\").orderBy(\"timestamp\")\n",
    "\n",
    "df1 = df.withColumn(\"pretimestamp\", lag(\"timestamp\").over(w1)) \\\n",
    ".withColumn(\"delta_mins\", round((col(\"timestamp\").cast(\"long\") - col(\"pretimestamp\").cast(\"long\"))/60)) \\\n",
    ".withColumn(\"sessionflag\", expr(f\"CASE WHEN delta_mins > {session_cutoff} OR delta_mins IS NULL THEN 1 ELSE 0 END\")) \\\n",
    ".withColumn('sessionID', sum(\"sessionflag\").over(w1)).cache()\n",
    "                  "
   ]
  },
  {
   "cell_type": "code",
   "execution_count": 16,
   "id": "d419850b",
   "metadata": {},
   "outputs": [
    {
     "name": "stdout",
     "output_type": "stream",
     "text": [
      "+-----------+-------------------+-------------------+----------+-----------+---------+\n",
      "|     userid|          timestamp|       pretimestamp|delta_mins|sessionflag|sessionID|\n",
      "+-----------+-------------------+-------------------+----------+-----------+---------+\n",
      "|user_000066|2006-05-09 23:12:52|               null|      null|          1|        1|\n",
      "|user_000066|2006-05-09 23:31:12|2006-05-09 23:12:52|      18.0|          0|        1|\n",
      "|user_000066|2006-05-10 01:35:09|2006-05-09 23:31:12|     124.0|          1|        2|\n",
      "|user_000066|2006-05-10 01:39:47|2006-05-10 01:35:09|       5.0|          0|        2|\n",
      "|user_000066|2006-05-10 01:47:24|2006-05-10 01:39:47|       8.0|          0|        2|\n",
      "|user_000066|2006-05-10 02:03:59|2006-05-10 01:47:24|      17.0|          0|        2|\n",
      "|user_000066|2006-05-10 02:25:20|2006-05-10 02:03:59|      21.0|          1|        3|\n",
      "|user_000066|2006-05-10 02:34:15|2006-05-10 02:25:20|       9.0|          0|        3|\n",
      "|user_000066|2006-05-10 02:48:34|2006-05-10 02:34:15|      14.0|          0|        3|\n",
      "|user_000066|2006-05-10 02:53:52|2006-05-10 02:48:34|       5.0|          0|        3|\n",
      "|user_000066|2006-05-10 02:59:42|2006-05-10 02:53:52|       6.0|          0|        3|\n",
      "|user_000066|2006-05-10 03:15:49|2006-05-10 02:59:42|      16.0|          0|        3|\n",
      "|user_000066|2006-05-10 03:21:08|2006-05-10 03:15:49|       5.0|          0|        3|\n",
      "|user_000066|2006-05-10 11:34:32|2006-05-10 03:21:08|     493.0|          1|        4|\n",
      "|user_000066|2006-05-10 19:53:00|2006-05-10 11:34:32|     498.0|          1|        5|\n",
      "|user_000066|2006-05-10 19:58:20|2006-05-10 19:53:00|       5.0|          0|        5|\n",
      "|user_000066|2006-05-10 20:07:10|2006-05-10 19:58:20|       9.0|          0|        5|\n",
      "|user_000066|2006-05-10 20:14:21|2006-05-10 20:07:10|       7.0|          0|        5|\n",
      "|user_000066|2006-05-10 22:07:21|2006-05-10 20:14:21|     113.0|          1|        6|\n",
      "|user_000066|2006-05-10 22:11:16|2006-05-10 22:07:21|       4.0|          0|        6|\n",
      "+-----------+-------------------+-------------------+----------+-----------+---------+\n",
      "only showing top 20 rows\n",
      "\n"
     ]
    }
   ],
   "source": [
    "df1.select('userid', 'timestamp', 'pretimestamp', 'delta_mins', 'sessionflag', 'sessionID').show()"
   ]
  },
  {
   "cell_type": "code",
   "execution_count": null,
   "id": "5c74340c",
   "metadata": {},
   "outputs": [],
   "source": [
    "df2 = df1.groupBy(\"userid\", \"sessionID\") \\\n",
    ".agg(min(\"timestamp\").alias(\"session_start_ts\"),\\\n",
    "max(\"timestamp\").alias(\"session_end_ts\")) \\\n",
    ".withColumn(\"session_length(hrs)\", round((col(\"session_end_ts\").cast(\"long\") - col(\"session_start_ts\").cast(\"long\"))/3600)) \\\n",
    ".orderBy(desc('session_length(hrs)')).limit(10).cache()\n"
   ]
  },
  {
   "cell_type": "code",
   "execution_count": 12,
   "id": "73df93fa",
   "metadata": {},
   "outputs": [
    {
     "name": "stdout",
     "output_type": "stream",
     "text": [
      "+-----------+---------+-------------------+-------------------+-------------------+\n",
      "|     userid|sessionID|   session_start_ts|     session_end_ts|session_length(hrs)|\n",
      "+-----------+---------+-------------------+-------------------+-------------------+\n",
      "|user_000949|      149|2006-02-12 17:49:31|2006-02-27 11:29:37|              354.0|\n",
      "|user_000997|       18|2007-04-26 01:36:02|2007-05-10 18:55:03|              353.0|\n",
      "|user_000949|      553|2007-05-01 03:41:15|2007-05-14 01:05:52|              309.0|\n",
      "|user_000544|       75|2007-02-12 13:03:52|2007-02-23 00:51:08|              252.0|\n",
      "|user_000949|      137|2005-12-09 08:26:38|2005-12-18 04:40:04|              212.0|\n",
      "|user_000949|      187|2006-03-18 23:04:14|2006-03-26 19:13:45|              187.0|\n",
      "|user_000949|      123|2005-11-11 03:30:37|2005-11-18 22:50:07|              187.0|\n",
      "|user_000544|       55|2007-01-06 01:07:04|2007-01-13 13:57:45|              181.0|\n",
      "|user_000250|     1258|2008-02-21 15:31:45|2008-02-28 21:18:03|              174.0|\n",
      "|user_000949|      150|2006-02-27 17:47:28|2006-03-06 19:52:35|              170.0|\n",
      "+-----------+---------+-------------------+-------------------+-------------------+\n",
      "\n"
     ]
    }
   ],
   "source": [
    "df2.show()"
   ]
  },
  {
   "cell_type": "code",
   "execution_count": 13,
   "id": "644e74df",
   "metadata": {},
   "outputs": [],
   "source": [
    "df3 = df2.join(df1,[\"userid\",\"sessionID\"]) \\\n",
    ".select(\"userid\",\"sessionID\", \"trackname\", \"session_length(hrs)\") \\\n",
    ".groupBy(\"userid\", \"sessionID\", \"session_length(hrs)\") \\\n",
    ".agg(collect_list(\"trackname\").alias('tracklist')) \\\n",
    ".orderBy(desc('session_length(hrs)')) \\\n",
    ".cache()\n"
   ]
  },
  {
   "cell_type": "code",
   "execution_count": 14,
   "id": "235f9776",
   "metadata": {},
   "outputs": [
    {
     "name": "stdout",
     "output_type": "stream",
     "text": [
      "+-----------+---------+-------------------+--------------------+\n",
      "|     userid|sessionID|session_length(hrs)|           tracklist|\n",
      "+-----------+---------+-------------------+--------------------+\n",
      "|user_000949|      149|              354.0|[Chained To You, ...|\n",
      "|user_000997|       18|              353.0|[Unentitled State...|\n",
      "|user_000949|      553|              309.0|[White Daisy Pass...|\n",
      "|user_000544|       75|              252.0|[Finally Woken, O...|\n",
      "|user_000949|      137|              212.0|[Neighborhood #2 ...|\n",
      "|user_000949|      123|              187.0|[Excuse Me Miss A...|\n",
      "|user_000949|      187|              187.0|[Disco Science, H...|\n",
      "|user_000544|       55|              181.0|[La Murga, Breath...|\n",
      "|user_000250|     1258|              174.0|[Lazarus Heart, S...|\n",
      "|user_000949|      150|              170.0|[Y-Control, Banqu...|\n",
      "+-----------+---------+-------------------+--------------------+\n",
      "\n"
     ]
    }
   ],
   "source": [
    "df3.show()"
   ]
  }
 ],
 "metadata": {
  "kernelspec": {
   "display_name": "bigdata",
   "language": "python",
   "name": "bigdata"
  },
  "language_info": {
   "codemirror_mode": {
    "name": "ipython",
    "version": 3
   },
   "file_extension": ".py",
   "mimetype": "text/x-python",
   "name": "python",
   "nbconvert_exporter": "python",
   "pygments_lexer": "ipython3",
   "version": "3.11.1"
  }
 },
 "nbformat": 4,
 "nbformat_minor": 5
}
